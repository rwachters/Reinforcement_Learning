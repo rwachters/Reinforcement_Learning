{
 "cells": [
  {
   "cell_type": "markdown",
   "metadata": {},
   "source": [
    "# 3D Balance Ball\n",
    "\n",
    "In this notebook, we will run the [3D Balance Ball example](https://github.com/Unity-Technologies/ml-agents/blob/main/docs/Learning-Environment-Examples.md#3dball-3d-balance-ball) from [Unity ML Agents](https://unity.com/products/machine-learning-agents). Please check the README file to setup this project.\n",
    "\n",
    "### 1. Start the Environment\n",
    "\n",
    "We begin by importing the necessary packages:"
   ]
  },
  {
   "cell_type": "code",
   "execution_count": 1,
   "metadata": {},
   "outputs": [],
   "source": [
    "%load_ext autoreload\n",
    "%autoreload 2\n",
    "from my_unity_environment import MyUnityEnvironment\n",
    "from model import Actor, Critic\n",
    "from ddpg_agents import DDPGAgents\n",
    "from ddpg_agent import DDPGAgent\n",
    "from replay_buffer import ReplayBuffer\n",
    "from utilities import convert_to_tensor\n",
    "import numpy as np\n",
    "import torch\n",
    "import torch.nn.functional as f\n",
    "import random\n",
    "from collections import deque\n",
    "import time\n",
    "import matplotlib.pyplot as plt\n",
    "%matplotlib inline"
   ]
  },
  {
   "cell_type": "markdown",
   "metadata": {},
   "source": [
    "Next, we will start the environment. Before running the code cell below, change the `ENV_FILE_NAME` parameter to match the location of the Unity executable that you [downloaded](README.md) or [created](../README.md#creating-a-custom-unity-executable) yourself. For example:\n",
    "\n",
    "```\n",
    "ENV_FILE_NAME = \"3DBall_Windows_x86_64/UnityEnvironment.exe\"\n",
    "```\n",
    "A new window should pop up. Don't worry if the window becomes unresponsive.\n"
   ]
  },
  {
   "cell_type": "code",
   "execution_count": 2,
   "metadata": {
    "pycharm": {
     "name": "#%%\n"
    }
   },
   "outputs": [],
   "source": [
    "ENV_FILE_NAME = \"3DBall_Windows_x86_64/UnityEnvironment.exe\"\n",
    "CHECKPOINT_FILENAME = \"checkpoint-3dball.pth\" # this is used for saving and loading the model\n",
    "DISPLAY_SIZE = [1024, 768] # The width and height of the Unity window\n",
    "\n",
    "test_env = MyUnityEnvironment(file_name=ENV_FILE_NAME, no_graphics=False)\n",
    "test_env.set_timescale(1.0)\n",
    "test_env.set_display_size(width=DISPLAY_SIZE[0], height=DISPLAY_SIZE[1])"
   ]
  },
  {
   "cell_type": "markdown",
   "metadata": {},
   "source": [
    "### 2. Examine the State and Action Spaces\n",
    "\n",
    "In this environment, an agent must balance a ball on its head for as long as possible.\n",
    "\n",
    "**Agent Reward Function:**\n",
    "- +0.1 for every step the ball remains on its head.\n",
    "- -1.0 if the ball falls off.\n",
    "\n",
    "**Behavior Parameters:**\n",
    "- Vector Observation space: 8 variables corresponding to rotation of the agent cube, and position and velocity of ball.\n",
    "- Actions: 2 continuous actions, with one value corresponding to X-rotation, and the other to Z-rotation.\n",
    "\n",
    "Run the code cell below to print some information about the environment:"
   ]
  },
  {
   "cell_type": "code",
   "execution_count": 3,
   "metadata": {},
   "outputs": [
    {
     "name": "stdout",
     "output_type": "stream",
     "text": [
      "Number of agents: 1\n",
      "Size of each action: 2\n",
      "States look like: [-0.04766776 -0.08700117 -0.54295158  4.          0.11863136  0.\n",
      "  0.          0.        ]\n",
      "States have shape: (8,)\n"
     ]
    }
   ],
   "source": [
    "def examine_environment(myenv: MyUnityEnvironment):\n",
    "    # number of agents in the first behavior:\n",
    "    print('Number of agents:', myenv.num_agents_list[0])\n",
    "\n",
    "    # number of actions\n",
    "    print('Size of each action:', myenv.behavior_specs[0].action_spec.continuous_size)\n",
    "\n",
    "    # examine the state space\n",
    "    print('States look like:', myenv.get_observations(0)[0])\n",
    "    print('States have shape:', myenv.behavior_specs[0].observation_specs[0].shape)\n",
    "\n",
    "examine_environment(test_env)"
   ]
  },
  {
   "cell_type": "markdown",
   "metadata": {},
   "source": [
    "### 3. Take Random Actions in the Parallel Environment\n",
    "\n",
    "Run the code cell below, to watch a random agent in action."
   ]
  },
  {
   "cell_type": "code",
   "execution_count": 4,
   "metadata": {},
   "outputs": [
    {
     "name": "stdout",
     "output_type": "stream",
     "text": [
      "Score from episode 0: 2.0000000447034836\n",
      "Score from episode 1: 1.500000037252903\n",
      "Score from episode 2: 2.400000050663948\n",
      "Score from episode 3: 2.1000000461935997\n",
      "Score from episode 4: 1.2000000327825546\n",
      "Score from episode 5: 2.400000050663948\n",
      "Score from episode 6: 1.0000000298023224\n",
      "Score from episode 7: 1.8000000417232513\n",
      "Score from episode 8: 1.1000000312924385\n",
      "Score from episode 9: 1.1000000312924385\n",
      "Time elapsed: 27.05\n"
     ]
    }
   ],
   "source": [
    "def test_random_agents(myenv: MyUnityEnvironment, n_episodes: int, max_t: int):\n",
    "    start_time = time.time()\n",
    "    for i in range(n_episodes):\n",
    "        myenv.reset()\n",
    "        scores = np.zeros(myenv.num_agents_list[0])\n",
    "        for t in range(max_t):\n",
    "            actions = np.random.randn(myenv.num_agents_list[0],\n",
    "                                      myenv.behavior_specs[0].action_spec.continuous_size)\n",
    "            actions = np.clip(actions, -1, 1)\n",
    "            myenv.set_actions(behavior_index=0, continuous=actions)\n",
    "            myenv.step()\n",
    "            _, rewards, dones = myenv.get_experiences(behavior_index=0)\n",
    "            scores += rewards.squeeze()\n",
    "            if np.any(dones):\n",
    "                break\n",
    "        print('Score from episode {}: {}'.format(i, np.max(scores)))\n",
    "    print(f\"Time elapsed: {time.time() - start_time:.2f}\")\n",
    "\n",
    "test_random_agents(test_env, n_episodes=10, max_t=200)"
   ]
  },
  {
   "cell_type": "code",
   "execution_count": 5,
   "outputs": [],
   "source": [
    "test_env.close()"
   ],
   "metadata": {
    "collapsed": false,
    "pycharm": {
     "name": "#%%\n"
    }
   }
  },
  {
   "cell_type": "markdown",
   "metadata": {
    "pycharm": {
     "name": "#%% md\n"
    }
   },
   "source": [
    "### 4. Train the Agent with DDPG\n",
    "\n",
    "Run the code cells below to train the agent from scratch.\n",
    "\n",
    "Alternatively, you can skip to the next step below (**5. Watch a Smart Agent**), to load the saved model weights from a pre-trained agent."
   ]
  },
  {
   "cell_type": "code",
   "execution_count": 6,
   "metadata": {
    "pycharm": {
     "name": "#%%\n"
    }
   },
   "outputs": [],
   "source": [
    "class DDPGAgentsTester:\n",
    "    def __init__(self, ddpg_agents: DDPGAgents,\n",
    "                 myenv: MyUnityEnvironment,\n",
    "                 buffer_size=int(1.0e6),  # replay buffer size\n",
    "                 noise_start=1.0\n",
    "                 ):\n",
    "        self.ddpg_agents = ddpg_agents\n",
    "        self.myenv = myenv\n",
    "        self.buffer_size = buffer_size\n",
    "        self.scores = []\n",
    "        self.scores_deque = deque(maxlen=100)\n",
    "        self.episode = 0\n",
    "        self.noise = noise_start\n",
    "        self.replay_buffer = ReplayBuffer(buffer_size)\n",
    "\n",
    "    def train_agents(self, n_episodes, max_t, goal=float(\"inf\"), print_every=1000, update_every=1,\n",
    "                     num_updates=1, batch_size=64, noise_decay=6.93e-6):\n",
    "        \"\"\" Multi Agent Deep Deterministic Policy Gradient algorithm.\n",
    "\n",
    "        Params\n",
    "        ======\n",
    "            n_episodes (int): maximum number of training episodes\n",
    "            max_t (int): maximum number of timesteps per episode\n",
    "            goal (float): the algorithm will stop when the goal is reached\n",
    "            print_every (int) : print intermediate results every %print_every episodes\n",
    "            update_every (int): update the neural networks every %update_every time steps\n",
    "            num_updates: How many updates to do in a row\n",
    "            batch_size (int): minibatch size\n",
    "            noise_decay (float): noise decay factor = 1.0 - %noise_decay\n",
    "        \"\"\"\n",
    "        noise_decay = 1.0 - noise_decay\n",
    "        start_episode = self.episode\n",
    "        stop_episode = self.episode + n_episodes\n",
    "        steps = 0\n",
    "        start_time = time.time()\n",
    "        last_print_time = 0\n",
    "        for self.episode in range(start_episode, stop_episode):\n",
    "            score = np.zeros(len(self.ddpg_agents))\n",
    "            self.myenv.reset()\n",
    "            states = self.myenv.get_observations(behavior_index=0)\n",
    "            for t in range(max_t):\n",
    "                steps += 1\n",
    "                # get actions from all agents:\n",
    "                actions = self.ddpg_agents.act(convert_to_tensor(states[:, np.newaxis, :]), self.noise)\n",
    "                # remove batch_size from actions:\n",
    "                actions = actions[:, 0, :]\n",
    "                self.myenv.set_actions(behavior_index=0, continuous=actions)\n",
    "                self.myenv.step()\n",
    "                next_states, rewards, dones = self.myenv.get_experiences(behavior_index=0)\n",
    "\n",
    "                # add sample to replay buffer:\n",
    "                sample = (states, actions, rewards, next_states, dones)\n",
    "                self.replay_buffer.add(sample)\n",
    "\n",
    "                states = next_states\n",
    "                self.noise *= noise_decay\n",
    "                score += rewards.squeeze()\n",
    "\n",
    "                # update networks every %update_every time steps:\n",
    "                if steps % update_every == 0 and len(self.replay_buffer) > batch_size * 100:\n",
    "                    for _ in range(num_updates):\n",
    "                        samples = [self.replay_buffer.sample(batch_size) for _ in range(len(self.ddpg_agents))]\n",
    "                        self.ddpg_agents.step(samples)\n",
    "                        #soft update the target network towards the actual networks:\n",
    "                        self.ddpg_agents.update_target_networks()\n",
    "\n",
    "                if np.any(dones):  # exit loop if episode finished\n",
    "                    break\n",
    "\n",
    "            self.scores_deque.append(score)\n",
    "            self.scores.append(score)\n",
    "\n",
    "            average_scores = np.mean(self.scores_deque, 0)  # average score over last 100 episodes for each agent\n",
    "            if time.time() - last_print_time > 1.0:\n",
    "                time_per_step = (time.time() - start_time) / steps\n",
    "                print('\\rEpisode {}\\tSteps: {}\\tTime per step: {:.6f}\\tAverage Scores: {:.3f}'\n",
    "                      .format(self.episode, steps, time_per_step, *average_scores), end=\"\")\n",
    "                last_print_time = time.time()\n",
    "            if self.episode % print_every == 0:\n",
    "                print(\"\\r\" + \" \" * 80, end=\"\")\n",
    "                print('\\rEpisode {}\\tAverage Scores: {:.3f}'.format(self.episode, *average_scores))\n",
    "            if len(self.scores) >= print_every and np.max(average_scores) >= goal:\n",
    "                print('\\nEnvironment solved in {:d} episodes!\\tAverage Score: {:.2f}\\tTime elapsed: {}'.format(\n",
    "                    self.episode, np.max(average_scores), time.time() - start_time))\n",
    "                break\n",
    "\n",
    "    def test_agent(self, n_episodes, max_t):\n",
    "        for _ in range(n_episodes):\n",
    "            self.myenv.reset()\n",
    "            states = self.myenv.get_observations(behavior_index=0)\n",
    "            score = np.zeros(len(self.ddpg_agents))\n",
    "            for _ in range(max_t):\n",
    "                # get actions from all agents:\n",
    "                actions = self.ddpg_agents.act(convert_to_tensor(states[:, np.newaxis, :]), noise_scale=0.0)\n",
    "                # remove batch_size from actions:\n",
    "                actions = actions[:, 0, :]\n",
    "\n",
    "                self.myenv.set_actions(behavior_index=0, continuous=actions)\n",
    "                self.myenv.step()\n",
    "                next_states, rewards, dones = self.myenv.get_experiences(behavior_index=0)\n",
    "\n",
    "                score += rewards.squeeze()\n",
    "                states = next_states\n",
    "                if np.any(dones):  # exit loop if episode finished\n",
    "                    break\n",
    "            print(\"Score: {}\".format(score))"
   ]
  },
  {
   "cell_type": "code",
   "execution_count": 7,
   "outputs": [],
   "source": [
    "random_seed = 1\n",
    "np.random.seed(random_seed)\n",
    "torch.manual_seed(random_seed)\n",
    "random.seed(random_seed)\n",
    "train_env = MyUnityEnvironment(file_name=ENV_FILE_NAME, seed=random_seed, no_graphics=True, worker_id=0)\n",
    "train_env.set_timescale(time_scale=100.0)"
   ],
   "metadata": {
    "collapsed": false,
    "pycharm": {
     "name": "#%%\n"
    }
   }
  },
  {
   "cell_type": "code",
   "execution_count": 8,
   "outputs": [],
   "source": [
    "actor1 = Actor(state_size=8, action_size=2, hidden_layer_sizes=[400, 300], activation_func=f.leaky_relu)\n",
    "critic1 = Critic(state_size=8, action_size=2, hidden_layer_sizes=[400, 300], activation_func=f.leaky_relu,\n",
    "                 inject_layer=0)\n",
    "ddpg_agent1 = DDPGAgent(actor1, critic1, gamma=0.99, tau=1.0e-3, lr_actor=1.0e-4, lr_critic=1.0e-3, weight_decay=1.0e-2)\n",
    "ddpg_agent_list = [ddpg_agent1]\n",
    "ddpg_agents = DDPGAgents(ddpg_agent_list)\n",
    "ddpg_agents_tester = DDPGAgentsTester(ddpg_agents, train_env, buffer_size=int(1.0e6), noise_start=1.0)"
   ],
   "metadata": {
    "collapsed": false,
    "pycharm": {
     "name": "#%%\n"
    }
   }
  },
  {
   "cell_type": "markdown",
   "source": [
    "You can skip this cell, if you don’t want to train the agent from scratch. It may take 30 to 45 minutes:"
   ],
   "metadata": {
    "collapsed": false,
    "pycharm": {
     "name": "#%% md\n"
    }
   }
  },
  {
   "cell_type": "code",
   "execution_count": 9,
   "metadata": {
    "pycharm": {
     "name": "#%%\n"
    }
   },
   "outputs": [
    {
     "name": "stdout",
     "output_type": "stream",
     "text": [
      "Episode 0\tAverage Scores: 1.500                                                 \n",
      "Episode 1000\tAverage Scores: 0.854                                              \n",
      "Episode 2000\tAverage Scores: 0.710                                              \n",
      "Episode 3000\tAverage Scores: 0.829                                              \n",
      "Episode 4000\tAverage Scores: 1.844                                              \n",
      "Episode 5000\tAverage Scores: 2.710                                              \n",
      "Episode 6000\tAverage Scores: 3.985                                              \n",
      "Episode 6301\tSteps: 182838\tTime per step: 0.011439\tAverage Scores: 10.000\n",
      "Environment solved in 6301 episodes!\tAverage Score: 10.00\tTime elapsed: 2091.4249007701874\n"
     ]
    }
   ],
   "source": [
    "ddpg_agents_tester.myenv = train_env\n",
    "ddpg_agents_tester.train_agents(n_episodes=int(1.0e5), max_t=100, goal=10.0, update_every=1,\n",
    "                                num_updates=1, batch_size=64, noise_decay=6.93e-6)\n",
    "ddpg_agents.save_checkpoint(filename=CHECKPOINT_FILENAME)"
   ]
  },
  {
   "cell_type": "code",
   "execution_count": 10,
   "metadata": {
    "pycharm": {
     "name": "#%%\n"
    }
   },
   "outputs": [
    {
     "data": {
      "text/plain": "<Figure size 432x288 with 1 Axes>",
      "image/png": "[encoded data removed]"
     },
     "metadata": {
      "needs_background": "light"
     },
     "output_type": "display_data"
    }
   ],
   "source": [
    "def plot_scores():\n",
    "    scores = np.vstack(ddpg_agents_tester.scores)\n",
    "    scores = np.max(scores, 1)\n",
    "    fig = plt.figure()\n",
    "    ax = fig.add_subplot(111)\n",
    "    plt.plot(np.arange(1, len(scores) + 1), scores)\n",
    "    plt.ylabel('Score')\n",
    "    plt.xlabel('Episode #')\n",
    "    plt.show()\n",
    "\n",
    "plot_scores()"
   ]
  },
  {
   "cell_type": "markdown",
   "metadata": {},
   "source": [
    "### 5. Watch a Smart Agent"
   ]
  },
  {
   "cell_type": "code",
   "execution_count": 11,
   "metadata": {
    "pycharm": {
     "name": "#%%\n"
    }
   },
   "outputs": [],
   "source": [
    "test_env = MyUnityEnvironment(file_name=ENV_FILE_NAME, worker_id=1)\n",
    "test_env.set_timescale(1.0)\n",
    "test_env.set_display_size(width=DISPLAY_SIZE[0], height=DISPLAY_SIZE[1])\n",
    "ddpg_agents_tester.myenv = test_env\n",
    "ddpg_agents.load_checkpoint(filename=CHECKPOINT_FILENAME)"
   ]
  },
  {
   "cell_type": "code",
   "execution_count": 12,
   "outputs": [
    {
     "name": "stdout",
     "output_type": "stream",
     "text": [
      "Score: [20.0000003]\n",
      "Score: [20.0000003]\n",
      "Score: [20.0000003]\n",
      "Score: [20.0000003]\n",
      "Score: [20.0000003]\n",
      "Score: [20.0000003]\n",
      "Score: [20.0000003]\n",
      "Score: [20.0000003]\n",
      "Score: [20.0000003]\n",
      "Score: [20.0000003]\n"
     ]
    }
   ],
   "source": [
    "ddpg_agents_tester.test_agent(n_episodes=10, max_t=200)"
   ],
   "metadata": {
    "collapsed": false,
    "pycharm": {
     "name": "#%%\n"
    }
   }
  },
  {
   "cell_type": "markdown",
   "metadata": {
    "pycharm": {
     "name": "#%% md\n"
    }
   },
   "source": [
    "When finished, you can close the environment."
   ]
  },
  {
   "cell_type": "code",
   "execution_count": 13,
   "metadata": {
    "pycharm": {
     "name": "#%%\n"
    }
   },
   "outputs": [],
   "source": [
    "train_env.close()\n",
    "test_env.close()"
   ]
  }
 ],
 "metadata": {
  "kernelspec": {
   "name": "rl39",
   "language": "python",
   "display_name": "rl39"
  },
  "language_info": {
   "codemirror_mode": {
    "name": "ipython",
    "version": 3
   },
   "file_extension": ".py",
   "mimetype": "text/x-python",
   "name": "python",
   "nbconvert_exporter": "python",
   "pygments_lexer": "ipython3",
   "version": "3.6.13"
  }
 },
 "nbformat": 4,
 "nbformat_minor": 2
}